{
 "cells": [
  {
   "cell_type": "markdown",
   "metadata": {},
   "source": [
    "## Linear regression"
   ]
  },
  {
   "cell_type": "code",
   "execution_count": 1,
   "metadata": {},
   "outputs": [],
   "source": [
    "import os\n",
    "import numpy as np\n",
    "import matplotlib.pyplot as plt\n",
    "\n",
    "path = 'C:/Users/Khristina/PycharmProjects/ML/datapoints.txt'\n",
    "name = 'datapoints.txt'\n",
    "\n",
    "# The input for n and lambda parameters is in the Model construction part of the code\n",
    "# Data preparation \n",
    "with open(os.path.join(os.path.dirname(name), path), 'r') as file:\n",
    "    data = file.read().replace('\\n', ',').split(',')\n",
    "    data = list(map(float, data))\n",
    "X, y = np.matrix(data[::2]), np.matrix(data[1::2])\n",
    "X, y = np.reshape(X, (X.shape[1], 1)), np.reshape(y, (y.shape[1], 1))"
   ]
  },
  {
   "cell_type": "markdown",
   "metadata": {},
   "source": [
    "### Create design matrix A"
   ]
  },
  {
   "cell_type": "code",
   "execution_count": 2,
   "metadata": {},
   "outputs": [],
   "source": [
    "def design_matrix(X, n):\n",
    "    A = np.power(X, 0)\n",
    "    for power in range(1, n):\n",
    "        X_pow = np.power(X, power)\n",
    "        A = np.column_stack((X_pow, A))\n",
    "    return A"
   ]
  },
  {
   "cell_type": "markdown",
   "metadata": {},
   "source": [
    "### Transpose matrix A"
   ]
  },
  {
   "cell_type": "code",
   "execution_count": 3,
   "metadata": {},
   "outputs": [],
   "source": [
    "def transpose_matrix(A):\n",
    "    A_transposed = np.matrix([[0 for x in range(A.shape[0])] for y in range(A.shape[1])], dtype=float)\n",
    "    for i in range(A.shape[0]):\n",
    "        for j in range(A.shape[1]):\n",
    "            A_transposed[j, i] = A[i, j]\n",
    "    return A_transposed"
   ]
  },
  {
   "cell_type": "markdown",
   "metadata": {},
   "source": [
    "### Matrix multiplication"
   ]
  },
  {
   "cell_type": "code",
   "execution_count": 4,
   "metadata": {},
   "outputs": [],
   "source": [
    "def mul(B, C):\n",
    "    A_mul = np.matrix(np.zeros((B.shape[0], C.shape[1])))\n",
    "    for i in range(C.shape[1]):   # iterate throuhg columns of second\n",
    "        for j in range(B.shape[0]):   # iterate through rows of the first\n",
    "            for k in range(C.shape[0]):\n",
    "                A_mul[j, i] += B[j, k]*C[k, i]\n",
    "    return A_mul"
   ]
  },
  {
   "cell_type": "markdown",
   "metadata": {},
   "source": [
    "### Identity"
   ]
  },
  {
   "cell_type": "code",
   "execution_count": 5,
   "metadata": {},
   "outputs": [],
   "source": [
    "def identity_m(dim):\n",
    "    I = np.matrix([[0 for x in range(dim)] for y in range(dim)])\n",
    "    for i in range(dim):\n",
    "        I[i, i] = 1\n",
    "    return np.asarray(I)"
   ]
  },
  {
   "cell_type": "markdown",
   "metadata": {},
   "source": [
    "### LU decomposition"
   ]
  },
  {
   "cell_type": "code",
   "execution_count": 6,
   "metadata": {},
   "outputs": [],
   "source": [
    "def LU(A_dot):\n",
    "    dim = A_dot.shape[0]\n",
    "    # Create an empty LU coef matrix\n",
    "    LU = np.matrix([[0 for x in range(dim)] for y in range(dim)], dtype='float')\n",
    "    for k in range(dim):\n",
    "        \n",
    "        # Filling rows of LU composed matrix\n",
    "        for j in range(k, dim):\n",
    "            LU[k, j] = A_dot[k, j] - LU[k, :k]*LU[:k, j]\n",
    "            \n",
    "        # Filling columns of LU composed matrix\n",
    "        for i in range(k + 1, dim):\n",
    "            LU[i, k] = (A_dot[i, k] - LU[i, :k]*LU[:k, k])/LU[k, k]\n",
    "    # Now we can make copies of our LU and fill in U with zeros and L also with 1 on its main diagonal\n",
    "    U = LU.copy()\n",
    "    L = LU.copy()\n",
    "    for j in range(1, U.shape[0]):\n",
    "        U[j, :j] = 0\n",
    "    for i in range(L.shape[0]):\n",
    "        L[i, i] = 1\n",
    "        L[i, i+1:] = 0\n",
    "    return L, U"
   ]
  },
  {
   "cell_type": "code",
   "execution_count": 7,
   "metadata": {},
   "outputs": [],
   "source": [
    "# Solve an equation for L and U matricies\n",
    "def SLAU(L, U, b):\n",
    "    y = np.matrix(np.zeros([L.shape[0], 1]))\n",
    "    for i in range(y.shape[0]):\n",
    "        y[i, 0] = b[i] - L[i, :i]*y[:i] \n",
    "\n",
    "    x = np.matrix(np.zeros([U.shape[0], 1]))\n",
    "    for i in range(1, x.shape[0]+1):\n",
    "        x[-i, 0] = (y[-i] - U[-i, -i:]*x[-i:])/U[-i, -i]\n",
    "    return x"
   ]
  },
  {
   "cell_type": "code",
   "execution_count": 8,
   "metadata": {},
   "outputs": [],
   "source": [
    "def inv_m(A):\n",
    "    a = A.copy()\n",
    "    L, U = LU(a)\n",
    "    Y = np.matrix(identity_m(L.shape[0]), dtype='float')\n",
    "    inverse = []\n",
    "    for col in Y:\n",
    "        b = col.reshape((col.shape[1], 1))\n",
    "        if len(inverse) == 0:   # add in inverse matrix rows of original matrix\n",
    "            inverse = SLAU(L, U, b)\n",
    "        else:\n",
    "            inverse = np.column_stack((inverse, SLAU(L, U, b)))\n",
    "    return inverse"
   ]
  },
  {
   "cell_type": "markdown",
   "metadata": {},
   "source": [
    "### LSE"
   ]
  },
  {
   "cell_type": "code",
   "execution_count": 9,
   "metadata": {},
   "outputs": [],
   "source": [
    "def linear_LSE(X, y, lmbd, n):\n",
    "    A = design_matrix(X, n)\n",
    "    A_tr = transpose_matrix(A)\n",
    "    A_dot = mul(A_tr, A)   \n",
    "    lmbd_I = lmbd*identity_m(len(A_dot))\n",
    "    mtr_sum = A_dot + lmbd_I\n",
    "    inv = inv_m(mtr_sum)\n",
    "    w = mul(inv, mul(A_tr, y))  \n",
    "    return w, A"
   ]
  },
  {
   "cell_type": "markdown",
   "metadata": {},
   "source": [
    "## Newton's Method"
   ]
  },
  {
   "cell_type": "code",
   "execution_count": 10,
   "metadata": {},
   "outputs": [],
   "source": [
    "def As(X, n):\n",
    "    A = design_matrix(X, n)\n",
    "    A_tr = transpose_matrix(A)\n",
    "    A_dot = mul(A_tr, A)   \n",
    "    return A, A_tr"
   ]
  },
  {
   "cell_type": "code",
   "execution_count": 11,
   "metadata": {},
   "outputs": [],
   "source": [
    "def gradient(A, A_tr, X, b):\n",
    "    first = 2*mul(mul(A_tr, A), X)  \n",
    "    second = 2*mul(A_tr, b)   \n",
    "    return first - second"
   ]
  },
  {
   "cell_type": "code",
   "execution_count": 12,
   "metadata": {},
   "outputs": [],
   "source": [
    "def Hessian(A, A_tr):\n",
    "    return inv_m(2*mul(A_tr, A))  "
   ]
  },
  {
   "cell_type": "code",
   "execution_count": 13,
   "metadata": {},
   "outputs": [],
   "source": [
    "def Newton(X, y, n, w):\n",
    "    A, A_tr = As(X, n)   # initial parameters     \n",
    "    w = w - mul(Hessian(A, A_tr), gradient(A, A_tr, w, y))   # update predicted parameter \n",
    "    return w, A"
   ]
  },
  {
   "cell_type": "markdown",
   "metadata": {},
   "source": [
    "### Error function"
   ]
  },
  {
   "cell_type": "code",
   "execution_count": 14,
   "metadata": {},
   "outputs": [],
   "source": [
    "def l2_norm(A, y, w):\n",
    "    error = 0\n",
    "    for i in range(len(y)):\n",
    "        f = sum(A[i]*w)\n",
    "        error += (y[i] - f)**2\n",
    "    return error"
   ]
  },
  {
   "cell_type": "markdown",
   "metadata": {},
   "source": [
    "### Prediction"
   ]
  },
  {
   "cell_type": "code",
   "execution_count": 15,
   "metadata": {},
   "outputs": [],
   "source": [
    "def predict(X, w):\n",
    "    pred = np.asarray(sum(X[0]*w))\n",
    "    for i in range(1, len(X)):\n",
    "        pred = np.append(pred, sum(X[i]*w))\n",
    "    return pred"
   ]
  },
  {
   "cell_type": "markdown",
   "metadata": {},
   "source": [
    "# Models construction"
   ]
  },
  {
   "cell_type": "code",
   "execution_count": 16,
   "metadata": {
    "scrolled": false
   },
   "outputs": [
    {
     "name": "stdout",
     "output_type": "stream",
     "text": [
      "LSE:\n",
      "Fitting line: 0.8345332827002857x^2 + 0.09314819831918815x^1 + 0.04695069927346927\n",
      "Total error: 22649.738493024153\n"
     ]
    },
    {
     "data": {
      "image/png": "[encoded data removed]",
      "text/plain": [
       "<Figure size 864x432 with 1 Axes>"
      ]
     },
     "metadata": {
      "needs_background": "light"
     },
     "output_type": "display_data"
    },
    {
     "name": "stdout",
     "output_type": "stream",
     "text": [
      "Newton's Method:\n",
      "Fitting line: 3.0238533934865712x^2 + 4.906190263863799x^1 + -0.23140175608770586\n",
      "Total error: 26.559959499333058\n"
     ]
    },
    {
     "data": {
      "image/png": "[encoded data removed]",
      "text/plain": [
       "<Figure size 864x432 with 1 Axes>"
      ]
     },
     "metadata": {
      "needs_background": "light"
     },
     "output_type": "display_data"
    }
   ],
   "source": [
    "n = 3\n",
    "lmbd = 10000\n",
    "\n",
    "methods = [\"LSE\", \"Newton's Method\"]\n",
    "for method in methods:\n",
    "    if method == 'LSE':\n",
    "        w, A = linear_LSE(X, y, lmbd, n)\n",
    "    else:\n",
    "        x = np.matrix(np.random.rand(n, 1))   # Create dummy w\n",
    "        w, A = Newton(X, y, n, x)\n",
    "    error = l2_norm(A, y, w)[0, 0]   # total error\n",
    "    predictions = predict(A, w)\n",
    "    \n",
    "    # Create fitting line eq\n",
    "    eq = ''\n",
    "    for power, w1 in enumerate(np.flip(w)):\n",
    "        if power == 0:\n",
    "            eq = '{0}'.format(w1[0, 0])\n",
    "        else:\n",
    "            eq = '{1}x^{0} + {2}'.format(power, w1[0, 0], eq)\n",
    "            \n",
    "    print('{2}:\\nFitting line: {0}\\nTotal error: {1}'.format(eq, error, method))\n",
    "    plt.figure(figsize=(12, 6))\n",
    "    plt.plot(X, y, 'o', color='red')\n",
    "    plt.plot(X, predictions, color = 'gray')\n",
    "    plt.xlabel('x')\n",
    "    plt.ylabel('y')\n",
    "    plt.show()"
   ]
  },
  {
   "cell_type": "code",
   "execution_count": null,
   "metadata": {},
   "outputs": [],
   "source": []
  }
 ],
 "metadata": {
  "kernelspec": {
   "display_name": "Python 3",
   "language": "python",
   "name": "python3"
  },
  "language_info": {
   "codemirror_mode": {
    "name": "ipython",
    "version": 3
   },
   "file_extension": ".py",
   "mimetype": "text/x-python",
   "name": "python",
   "nbconvert_exporter": "python",
   "pygments_lexer": "ipython3",
   "version": "3.8.3"
  }
 },
 "nbformat": 4,
 "nbformat_minor": 4
}
